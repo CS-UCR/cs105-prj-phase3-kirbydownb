{
 "cells": [
  {
   "cell_type": "markdown",
   "metadata": {},
   "source": [
    "# Exploratory Data Analysis\n",
    "### KirbyDownB\n",
    "During this phase, we'll be performing EDA on the data we've collected. As of now, we have restaurant data from Yelp, along with income data based on zip code, which we scraped."
   ]
  },
  {
   "cell_type": "markdown",
   "metadata": {},
   "source": [
    "## Install Packages"
   ]
  },
  {
   "cell_type": "code",
   "execution_count": 1,
   "metadata": {},
   "outputs": [
    {
     "name": "stdout",
     "output_type": "stream",
     "text": [
      "Requirement already satisfied: pymongo in /Users/ericong18/Library/Python/3.7/lib/python/site-packages (3.9.0)\n",
      "Requirement already satisfied: nltk in /usr/local/lib/python3.7/site-packages (3.4.5)\n",
      "Requirement already satisfied: wordcloud in /usr/local/lib/python3.7/site-packages (1.6.0)\n",
      "Requirement already satisfied: textblob in /usr/local/lib/python3.7/site-packages (0.15.3)\n",
      "Requirement already satisfied: numpy in /Users/ericong18/Library/Python/3.7/lib/python/site-packages (1.16.2)\n",
      "Requirement already satisfied: six in /usr/local/lib/python3.7/site-packages (from nltk) (1.12.0)\n",
      "Requirement already satisfied: matplotlib in /Users/ericong18/Library/Python/3.7/lib/python/site-packages (from wordcloud) (3.0.3)\n",
      "Requirement already satisfied: pillow in /usr/local/lib/python3.7/site-packages (from wordcloud) (7.0.0)\n",
      "Requirement already satisfied: kiwisolver>=1.0.1 in /Users/ericong18/Library/Python/3.7/lib/python/site-packages (from matplotlib->wordcloud) (1.0.1)\n",
      "Requirement already satisfied: pyparsing!=2.0.4,!=2.1.2,!=2.1.6,>=2.0.1 in /Users/ericong18/Library/Python/3.7/lib/python/site-packages (from matplotlib->wordcloud) (2.4.0)\n",
      "Requirement already satisfied: python-dateutil>=2.1 in /usr/local/lib/python3.7/site-packages (from matplotlib->wordcloud) (2.8.0)\n",
      "Requirement already satisfied: cycler>=0.10 in /Users/ericong18/Library/Python/3.7/lib/python/site-packages (from matplotlib->wordcloud) (0.10.0)\n",
      "Requirement already satisfied: setuptools in /usr/local/lib/python3.7/site-packages (from kiwisolver>=1.0.1->matplotlib->wordcloud) (40.8.0)\n"
     ]
    }
   ],
   "source": [
    "!pip3 install pymongo nltk wordcloud textblob numpy"
   ]
  },
  {
   "cell_type": "markdown",
   "metadata": {},
   "source": [
    "## Import Packages"
   ]
  },
  {
   "cell_type": "code",
   "execution_count": 2,
   "metadata": {},
   "outputs": [
    {
     "ename": "ModuleNotFoundError",
     "evalue": "No module named 'constants'",
     "output_type": "error",
     "traceback": [
      "\u001b[0;31m---------------------------------------------------------------------------\u001b[0m",
      "\u001b[0;31mModuleNotFoundError\u001b[0m                       Traceback (most recent call last)",
      "\u001b[0;32m<ipython-input-2-d116888335e2>\u001b[0m in \u001b[0;36m<module>\u001b[0;34m\u001b[0m\n\u001b[1;32m      1\u001b[0m \u001b[0;32mfrom\u001b[0m \u001b[0mpymongo\u001b[0m \u001b[0;32mimport\u001b[0m \u001b[0mMongoClient\u001b[0m\u001b[0;34m\u001b[0m\u001b[0;34m\u001b[0m\u001b[0m\n\u001b[0;32m----> 2\u001b[0;31m \u001b[0;32mfrom\u001b[0m \u001b[0mconstants\u001b[0m \u001b[0;32mimport\u001b[0m \u001b[0mmongodb_atlas_connection\u001b[0m\u001b[0;34m\u001b[0m\u001b[0;34m\u001b[0m\u001b[0m\n\u001b[0m\u001b[1;32m      3\u001b[0m \u001b[0;32mfrom\u001b[0m \u001b[0mhelpers\u001b[0m \u001b[0;32mimport\u001b[0m \u001b[0misZipCodeValid\u001b[0m\u001b[0;34m\u001b[0m\u001b[0;34m\u001b[0m\u001b[0m\n\u001b[1;32m      4\u001b[0m \u001b[0;32mfrom\u001b[0m \u001b[0mnltk\u001b[0m \u001b[0;32mimport\u001b[0m \u001b[0mword_tokenize\u001b[0m\u001b[0;34m,\u001b[0m \u001b[0msent_tokenize\u001b[0m\u001b[0;34m\u001b[0m\u001b[0;34m\u001b[0m\u001b[0m\n\u001b[1;32m      5\u001b[0m \u001b[0;32mfrom\u001b[0m \u001b[0mnltk\u001b[0m\u001b[0;34m.\u001b[0m\u001b[0mcorpus\u001b[0m \u001b[0;32mimport\u001b[0m \u001b[0mstopwords\u001b[0m\u001b[0;34m\u001b[0m\u001b[0;34m\u001b[0m\u001b[0m\n",
      "\u001b[0;31mModuleNotFoundError\u001b[0m: No module named 'constants'"
     ]
    }
   ],
   "source": [
    "from pymongo import MongoClient\n",
    "from constants import mongodb_atlas_connection\n",
    "from helpers import isZipCodeValid\n",
    "from nltk import word_tokenize, sent_tokenize\n",
    "from nltk.corpus import stopwords\n",
    "from nltk.stem import LancasterStemmer, WordNetLemmatizer, PorterStemmer\n",
    "from wordcloud import WordCloud, STOPWORDS\n",
    "from textblob import TextBlob\n",
    "\n",
    "import nltk\n",
    "import pandas as pd\n",
    "import numpy as np\n",
    "import re\n",
    "\n",
    "nltk.download('punkt')\n",
    "nltk.download(\"stopwords\")"
   ]
  },
  {
   "cell_type": "markdown",
   "metadata": {},
   "source": [
    "## Fetch Data"
   ]
  },
  {
   "cell_type": "code",
   "execution_count": null,
   "metadata": {},
   "outputs": [],
   "source": [
    "client = MongoClient(mongodb_atlas_connection)\n",
    "\n",
    "yelp_db = client['yelp']\n",
    "income_db = client['income']\n",
    "\n",
    "restaurants_collection = yelp_db['restaurants_new']\n",
    "reviews_collection = yelp_db['reviews']\n",
    "zip_code_collection = income_db['zipcode']\n",
    "\n",
    "zip_codes = list(zip_code_collection.find())\n",
    "zip_restaurants = list(restaurants_collection.find())\n",
    "reviews = list(reviews_collection.find())\n",
    "\n",
    "# Check for valid zip codes\n",
    "zip_codes = list(filter(lambda x: isZipCodeValid(x['zip']), zip_codes))\n",
    "\n",
    "client.close()\n",
    "\n"
   ]
  },
  {
   "cell_type": "code",
   "execution_count": null,
   "metadata": {},
   "outputs": [],
   "source": [
    "zip_restaurants[0]['restaurants']"
   ]
  },
  {
   "cell_type": "code",
   "execution_count": null,
   "metadata": {},
   "outputs": [],
   "source": [
    "stop_words = stopwords.words('english')\n",
    "rest_review = {}\n",
    "\n",
    "for review in reviews:\n",
    "    polarity = 0\n",
    "    subjectivity = 0\n",
    "    review_count = 0\n",
    "    rid = review['rid']\n",
    "    rName = review['name']    \n",
    "    \n",
    "    for i in review['reviews']:\n",
    "        pre_process = i['text'].lower()\n",
    "        pre_process = re.sub('[^a-z0-9]+', ' ', pre_process)\n",
    "        pre_process = word_tokenize(pre_process)\n",
    "        pre_process = [w for w in pre_process if not w in stop_words] \n",
    "        temp = list(TextBlob(' '.join(pre_process)).sentiment)\n",
    "        polarity += temp[0]\n",
    "        subjectivity += temp[0]\n",
    "        review_count += 1\n",
    "    \n",
    "    polarity = polarity/review_count \n",
    "    subjectivity = subjectivity/review_count\n",
    "    rest_review[rid] = [polarity, subjectivity]"
   ]
  },
  {
   "cell_type": "code",
   "execution_count": null,
   "metadata": {},
   "outputs": [],
   "source": [
    "rest_zip_code = {}\n",
    "rest_ratings = {}\n",
    "\n",
    "for zip_restaurant in zip_restaurants:\n",
    "    restaurants = zip_restaurant['restaurants']\n",
    "    zip_code = zip_restaurant['zipcode']\n",
    "    \n",
    "    for restaurant in restaurants:\n",
    "        rid = restaurant['id']\n",
    "        rating = restaurant['rating']\n",
    "        rest_zip_code[rid] = zip_code\n",
    "        rest_ratings[rid] = rating"
   ]
  },
  {
   "cell_type": "code",
   "execution_count": null,
   "metadata": {},
   "outputs": [],
   "source": [
    "zip_income = {}\n",
    "\n",
    "for obj in zip_codes:\n",
    "    zip_code = obj['zip']\n",
    "    income = obj['income']\n",
    "    zip_income[zip_code] = income"
   ]
  },
  {
   "cell_type": "code",
   "execution_count": null,
   "metadata": {},
   "outputs": [],
   "source": [
    "labels = ['id', 'restaurant_id', 'restaurant_name', 'zip_code', 'avg_sentiment_polarity', 'avg_sentiment_subjectivity', 'zip_code_income', 'restaurant_rating']\n",
    "\n",
    "data = []\n",
    "for index, obj in enumerate(reviews):\n",
    "    restaurant_id = obj['rid']\n",
    "    restaurant_name = obj['name']\n",
    "    \n",
    "    if restaurant_id not in rest_zip_code:\n",
    "        continue\n",
    "    zip_code = rest_zip_code[restaurant_id]\n",
    "    \n",
    "    sentiment_polarity = np.nan\n",
    "    sentiment_subjectivity = np.nan\n",
    "    \n",
    "    if restaurant_id in rest_review:\n",
    "        sentiment = rest_review[restaurant_id]\n",
    "        sentiment_polarity = sentiment[0]\n",
    "        sentiment_subjectivity = sentiment[1]\n",
    "    \n",
    "    zip_code_income = zip_income[zip_code]\n",
    "    restaurant_rating = rest_ratings[restaurant_id]\n",
    "    \n",
    "    value = [index, restaurant_id, restaurant_name, zip_code, sentiment_polarity, sentiment_subjectivity, zip_code_income, restaurant_rating]\n",
    "    data.append(value)"
   ]
  },
  {
   "cell_type": "code",
   "execution_count": null,
   "metadata": {},
   "outputs": [],
   "source": [
    "df = pd.DataFrame(data, columns=labels)\n",
    "df.set_index('id', inplace=True)\n",
    "df.head()"
   ]
  },
  {
   "cell_type": "code",
   "execution_count": null,
   "metadata": {},
   "outputs": [],
   "source": [
    "df['zip_code_income'] = df['zip_code_income'].str.replace(',','').str.replace('$','').astype('float')\n",
    "df.head()"
   ]
  },
  {
   "cell_type": "code",
   "execution_count": null,
   "metadata": {},
   "outputs": [],
   "source": [
    "print(df.groupby('zip_code'))\n",
    "dfg = df.groupby('zip_code')\n",
    "dfg.head()\n",
    "# Average rating by zipcode"
   ]
  },
  {
   "cell_type": "code",
   "execution_count": null,
   "metadata": {},
   "outputs": [],
   "source": [
    "%matplotlib inline\n",
    "df.groupby('zip_code')['restaurant_rating'].mean().plot.bar()\n",
    "df.groupby('zip_code')['restaurant_rating'].mean()"
   ]
  },
  {
   "cell_type": "markdown",
   "metadata": {},
   "source": [
    "## Histogram"
   ]
  },
  {
   "cell_type": "code",
   "execution_count": null,
   "metadata": {},
   "outputs": [],
   "source": [
    "# histogram\n",
    "df.restaurant_rating.hist(bins=3)"
   ]
  },
  {
   "cell_type": "markdown",
   "metadata": {},
   "source": [
    "As we can see, most of the ratings fall between 4 and 5 stars"
   ]
  },
  {
   "cell_type": "markdown",
   "metadata": {},
   "source": [
    "## Boxplots"
   ]
  },
  {
   "cell_type": "code",
   "execution_count": null,
   "metadata": {},
   "outputs": [],
   "source": [
    " df.boxplot(column=['restaurant_rating'])"
   ]
  },
  {
   "cell_type": "code",
   "execution_count": null,
   "metadata": {},
   "outputs": [],
   "source": [
    " df.boxplot(column=['zip_code_income'])"
   ]
  },
  {
   "cell_type": "markdown",
   "metadata": {},
   "source": [
    "The restaurant data seems to have a few outliers, and it is interesting to note that all of the outliers are on the lower end. This is the opposite of the income data, where all ofthe outliers are on the higher end."
   ]
  },
  {
   "cell_type": "markdown",
   "metadata": {},
   "source": [
    "## Scatter Plots"
   ]
  },
  {
   "cell_type": "code",
   "execution_count": null,
   "metadata": {},
   "outputs": [],
   "source": [
    "import matplotlib.pyplot as plt\n",
    "\n",
    "series = df.groupby('zip_code_income')['restaurant_rating'].mean()\n",
    "import pylab\n",
    "pylab.scatter(series.index, series)"
   ]
  },
  {
   "cell_type": "markdown",
   "metadata": {},
   "source": [
    "Although there is not a clear correlation we can make with the data, we can at least notice a few trends. While restaurants that are in the lower income range are all over the place, the restaurants in the higher income areas tend to have a more stable rating."
   ]
  },
  {
   "cell_type": "code",
   "execution_count": null,
   "metadata": {},
   "outputs": [],
   "source": [
    "series = df.groupby('avg_sentiment_subjectivity')['restaurant_rating'].mean()\n",
    "pylab.scatter(series.index, series)"
   ]
  },
  {
   "cell_type": "markdown",
   "metadata": {},
   "source": [
    "It also seems, from the above data, at least, that the reviews themselves are not a good indicator for whether the rating of the restaurant itself will be good as well. One would think that a restaurant with more favorable reviews would result in a higher average rating. "
   ]
  },
  {
   "cell_type": "code",
   "execution_count": null,
   "metadata": {},
   "outputs": [],
   "source": [
    "df.plot.scatter(x='zip_code_income',y='avg_sentiment_subjectivity')\n",
    "# pylab.scatter(series.index, series)"
   ]
  },
  {
   "cell_type": "markdown",
   "metadata": {},
   "source": [
    "Similar to the comparison with rating and the review sentiment, we see that in areas with a lower median income, the reviews tend to be more wide ranging, with sentiment ranging from -0.6 all the way to 0.8 in areas with a median income of $20,000, while in wealthier areas, the reviews tend to be much more consolidated. "
   ]
  },
  {
   "cell_type": "markdown",
   "metadata": {},
   "source": [
    "## Conclusion"
   ]
  },
  {
   "cell_type": "markdown",
   "metadata": {},
   "source": [
    "Although we didn't find any clear positive or negative correlation between some of the datapoint as we were expecting, we still found some interesting trends in the data. The most ineresting insighty we foiund was that the sentiment of the ratijngs themselves don't necessarily correspond to the ratings. That is, the number of stars someone gives a restaurant is not a clear indicator of how well they will review the restaurant, which makes sense. People may use the same words to describe a similar experience, but their overall sentiment may be very different,as these things are influenced by many other factors."
   ]
  },
  {
   "cell_type": "markdown",
   "metadata": {},
   "source": [
    "Another trend we indentified was that ratings in areas with a lower median income area tended to be all over the place, while ratings from areas with a higher median income, both in the actual rating and the sentiments of the reviews, tended to be significantly more stable."
   ]
  },
  {
   "cell_type": "code",
   "execution_count": null,
   "metadata": {},
   "outputs": [],
   "source": [
    "df.to_csv('result.csv', index=False)"
   ]
  },
  {
   "cell_type": "code",
   "execution_count": null,
   "metadata": {},
   "outputs": [],
   "source": []
  }
 ],
 "metadata": {
  "kernelspec": {
   "display_name": "Python 3",
   "language": "python",
   "name": "python3"
  },
  "language_info": {
   "codemirror_mode": {
    "name": "ipython",
    "version": 3
   },
   "file_extension": ".py",
   "mimetype": "text/x-python",
   "name": "python",
   "nbconvert_exporter": "python",
   "pygments_lexer": "ipython3",
   "version": "3.7.3"
  }
 },
 "nbformat": 4,
 "nbformat_minor": 2
}
