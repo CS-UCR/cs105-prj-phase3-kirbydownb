{
 "cells": [
  {
   "cell_type": "markdown",
   "metadata": {},
   "source": [
    "# Machine Learning\n",
    "For this phase, we'll be exploring different ML techniques that can be used for our gathered data. Some possible techniques we plan on using are Linear Regression and KMC."
   ]
  },
  {
   "cell_type": "markdown",
   "metadata": {},
   "source": [
    "## Install Packages"
   ]
  },
  {
   "cell_type": "code",
   "execution_count": 1,
   "metadata": {},
   "outputs": [
    {
     "name": "stdout",
     "output_type": "stream",
     "text": [
      "Requirement already satisfied: sklearn in /usr/local/lib/python3.7/site-packages (0.0)\n",
      "Requirement already satisfied: scikit-learn in /Users/ericong18/Library/Python/3.7/lib/python/site-packages (from sklearn) (0.20.3)\n",
      "Requirement already satisfied: scipy>=0.13.3 in /Users/ericong18/Library/Python/3.7/lib/python/site-packages (from scikit-learn->sklearn) (1.2.1)\n",
      "Requirement already satisfied: numpy>=1.8.2 in /Users/ericong18/Library/Python/3.7/lib/python/site-packages (from scikit-learn->sklearn) (1.16.2)\n"
     ]
    }
   ],
   "source": [
    "!pip3 install sklearn"
   ]
  },
  {
   "cell_type": "markdown",
   "metadata": {},
   "source": [
    "## Import Packages"
   ]
  },
  {
   "cell_type": "code",
   "execution_count": 2,
   "metadata": {},
   "outputs": [
    {
     "data": {
      "text/plain": [
       "array([[4.25366081],\n",
       "       [4.2525679 ],\n",
       "       [4.24597018],\n",
       "       ...,\n",
       "       [4.25072728],\n",
       "       [4.22867394],\n",
       "       [4.2472009 ]])"
      ]
     },
     "execution_count": 2,
     "metadata": {},
     "output_type": "execute_result"
    }
   ],
   "source": [
    "import pandas as pd\n",
    "\n",
    "from sklearn.linear_model import LinearRegression\n",
    "from sklearn.model_selection import train_test_split as tts\n",
    "\n",
    "df = pd.read_csv(\"result.csv\")\n",
    "\n",
    "\n",
    "\n",
    "X_train, X_test, y_train, y_test = tts(df['zip_code_income'],df['restaurant_rating'], test_size = 0.33)\n",
    "\n",
    "X_train = X_train.to_numpy().reshape(-1,1)\n",
    "X_test = X_test.to_numpy().reshape(-1,1)\n",
    "y_train = y_train.to_numpy().reshape(-1,1)\n",
    "\n",
    "model = LinearRegression()\n",
    "model.fit(X=X_train, y=y_train)\n",
    "model.predict(X=X_test)\n"
   ]
  },
  {
   "cell_type": "code",
   "execution_count": 20,
   "metadata": {},
   "outputs": [
    {
     "data": {
      "text/html": [
       "<div>\n",
       "<style scoped>\n",
       "    .dataframe tbody tr th:only-of-type {\n",
       "        vertical-align: middle;\n",
       "    }\n",
       "\n",
       "    .dataframe tbody tr th {\n",
       "        vertical-align: top;\n",
       "    }\n",
       "\n",
       "    .dataframe thead th {\n",
       "        text-align: right;\n",
       "    }\n",
       "</style>\n",
       "<table border=\"1\" class=\"dataframe\">\n",
       "  <thead>\n",
       "    <tr style=\"text-align: right;\">\n",
       "      <th></th>\n",
       "      <th>restaurant_id</th>\n",
       "      <th>restaurant_name</th>\n",
       "      <th>zip_code</th>\n",
       "      <th>avg_sentiment_polarity</th>\n",
       "      <th>avg_sentiment_subjectivity</th>\n",
       "      <th>zip_code_income</th>\n",
       "      <th>restaurant_rating</th>\n",
       "    </tr>\n",
       "  </thead>\n",
       "  <tbody>\n",
       "    <tr>\n",
       "      <td>0</td>\n",
       "      <td>vjGFXOzI1TCLYnnYYjxiXg</td>\n",
       "      <td>Market Restaurant + Bar</td>\n",
       "      <td>92007</td>\n",
       "      <td>0.038889</td>\n",
       "      <td>0.038889</td>\n",
       "      <td>62877.0</td>\n",
       "      <td>4.5</td>\n",
       "    </tr>\n",
       "    <tr>\n",
       "      <td>1</td>\n",
       "      <td>gxwEOjyhbMYCBSQ7tB7aNw</td>\n",
       "      <td>Snooze, An A.M. Eatery</td>\n",
       "      <td>92075</td>\n",
       "      <td>0.341270</td>\n",
       "      <td>0.341270</td>\n",
       "      <td>69057.0</td>\n",
       "      <td>4.0</td>\n",
       "    </tr>\n",
       "    <tr>\n",
       "      <td>2</td>\n",
       "      <td>ULJp8Bc_7iLHNz6Xzi2eRw</td>\n",
       "      <td>Thyme In The Ranch</td>\n",
       "      <td>92091</td>\n",
       "      <td>0.484821</td>\n",
       "      <td>0.484821</td>\n",
       "      <td>103904.0</td>\n",
       "      <td>4.0</td>\n",
       "    </tr>\n",
       "    <tr>\n",
       "      <td>3</td>\n",
       "      <td>3yQtkLcDAqMVX5oNYHyJhA</td>\n",
       "      <td>Claire's On Cedros</td>\n",
       "      <td>92007</td>\n",
       "      <td>0.311806</td>\n",
       "      <td>0.311806</td>\n",
       "      <td>62877.0</td>\n",
       "      <td>4.0</td>\n",
       "    </tr>\n",
       "    <tr>\n",
       "      <td>4</td>\n",
       "      <td>Sc3Mpf7ei8CS8PW7HD2k6w</td>\n",
       "      <td>Mille Fleurs</td>\n",
       "      <td>92091</td>\n",
       "      <td>0.322159</td>\n",
       "      <td>0.322159</td>\n",
       "      <td>103904.0</td>\n",
       "      <td>4.0</td>\n",
       "    </tr>\n",
       "  </tbody>\n",
       "</table>\n",
       "</div>"
      ],
      "text/plain": [
       "            restaurant_id          restaurant_name  zip_code  \\\n",
       "0  vjGFXOzI1TCLYnnYYjxiXg  Market Restaurant + Bar     92007   \n",
       "1  gxwEOjyhbMYCBSQ7tB7aNw   Snooze, An A.M. Eatery     92075   \n",
       "2  ULJp8Bc_7iLHNz6Xzi2eRw       Thyme In The Ranch     92091   \n",
       "3  3yQtkLcDAqMVX5oNYHyJhA       Claire's On Cedros     92007   \n",
       "4  Sc3Mpf7ei8CS8PW7HD2k6w             Mille Fleurs     92091   \n",
       "\n",
       "   avg_sentiment_polarity  avg_sentiment_subjectivity  zip_code_income  \\\n",
       "0                0.038889                    0.038889          62877.0   \n",
       "1                0.341270                    0.341270          69057.0   \n",
       "2                0.484821                    0.484821         103904.0   \n",
       "3                0.311806                    0.311806          62877.0   \n",
       "4                0.322159                    0.322159         103904.0   \n",
       "\n",
       "   restaurant_rating  \n",
       "0                4.5  \n",
       "1                4.0  \n",
       "2                4.0  \n",
       "3                4.0  \n",
       "4                4.0  "
      ]
     },
     "execution_count": 20,
     "metadata": {},
     "output_type": "execute_result"
    }
   ],
   "source": [
    "df.head()"
   ]
  },
  {
   "cell_type": "code",
   "execution_count": 19,
   "metadata": {},
   "outputs": [
    {
     "data": {
      "text/plain": [
       "<matplotlib.axes._subplots.AxesSubplot at 0x143c94690>"
      ]
     },
     "execution_count": 19,
     "metadata": {},
     "output_type": "execute_result"
    },
    {
     "data": {
      "image/png": "[encoded data removed]",
      "text/plain": [
       "<Figure size 432x288 with 1 Axes>"
      ]
     },
     "metadata": {
      "needs_background": "light"
     },
     "output_type": "display_data"
    }
   ],
   "source": [
    "import numpy as np\n",
    "\n",
    "X_new = pd.DataFrame()\n",
    "u = df['zip_code_income'].max()\n",
    "l = df['zip_code_income'].min()\n",
    "# create a sequence of 200 evenly spaced numbers from 10 to 41\n",
    "X_new[\"zip_code_income\"] = np.linspace(u, l, num=200)\n",
    "\n",
    "# create a Series out of the predicted values\n",
    "# (trailing underscore indicates fitted values)\n",
    "mo = model.predict(X_new).ravel()\n",
    "y_new_ = pd.Series(\n",
    "    mo, # y values in Series.plot.line()\n",
    "    index=X_new[\"zip_code_income\"]    # x values in Series.plot.line()\n",
    ")\n",
    "\n",
    "# plot the data, then the model\n",
    "# %matplotlib inline\n",
    "df.plot.scatter(x=\"zip_code_income\", y=\"restaurant_rating\")\n",
    "# y_new_.plot.box()\n",
    "import matplotlib.pyplot as plt\n",
    "import seaborn as sns\n",
    "sns.boxplot(x='restaurant_rating', y='zip_code_income', data=df)"
   ]
  },
  {
   "cell_type": "code",
   "execution_count": 21,
   "metadata": {},
   "outputs": [
    {
     "data": {
      "image/png": "[encoded data removed]",
      "text/plain": [
       "<Figure size 288x288 with 1 Axes>"
      ]
     },
     "metadata": {
      "needs_background": "light"
     },
     "output_type": "display_data"
    }
   ],
   "source": [
    "\n",
    "plt.matshow(df.corr())\n",
    "plt.show()"
   ]
  },
  {
   "cell_type": "code",
   "execution_count": 25,
   "metadata": {},
   "outputs": [
    {
     "data": {
      "text/plain": [
       "<matplotlib.axes._subplots.AxesSubplot at 0x144ff83d0>"
      ]
     },
     "execution_count": 25,
     "metadata": {},
     "output_type": "execute_result"
    },
    {
     "data": {
      "image/png": "[encoded data removed]",
      "text/plain": [
       "<Figure size 432x288 with 2 Axes>"
      ]
     },
     "metadata": {
      "needs_background": "light"
     },
     "output_type": "display_data"
    }
   ],
   "source": [
    "corr = df.corr()\n",
    "sns.heatmap(corr, \n",
    "            xticklabels=corr.columns.values,\n",
    "            yticklabels=corr.columns.values,cmap=\"YlGnBu\")\n"
   ]
  },
  {
   "cell_type": "code",
   "execution_count": null,
   "metadata": {},
   "outputs": [],
   "source": [
    "import xgboost as xgb\n",
    "dfx = df[['zip_code_income', 'restaurant_rating']]\n",
    "y = df['avg_sentiment_subjectivity']\n",
    "X_train, X_test, y_train, y_test = tts(dfx,y, test_size = 0.33)\n",
    "print(\"hi\")\n",
    "# xgb_model = xgb.XGBRegressor(max_depth=3).fit(X_train, y_train)\n",
    "# predictions = xgb_model.predict(X_train['zip_code_income'])\n",
    "# actuals = y_train['restaurant_rating']\n",
    "# print(confusion_matrix(actuals, predictions))\n"
   ]
  },
  {
   "cell_type": "code",
   "execution_count": null,
   "metadata": {},
   "outputs": [],
   "source": [
    "print(\"B\")"
   ]
  },
  {
   "cell_type": "code",
   "execution_count": null,
   "metadata": {},
   "outputs": [],
   "source": []
  },
  {
   "cell_type": "code",
   "execution_count": null,
   "metadata": {},
   "outputs": [],
   "source": []
  }
 ],
 "metadata": {
  "kernelspec": {
   "display_name": "Python 3",
   "language": "python",
   "name": "python3"
  },
  "language_info": {
   "codemirror_mode": {
    "name": "ipython",
    "version": 3
   },
   "file_extension": ".py",
   "mimetype": "text/x-python",
   "name": "python",
   "nbconvert_exporter": "python",
   "pygments_lexer": "ipython3",
   "version": "3.7.6"
  }
 },
 "nbformat": 4,
 "nbformat_minor": 2
}
